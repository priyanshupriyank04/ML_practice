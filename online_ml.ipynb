{
 "cells": [
  {
   "cell_type": "code",
   "execution_count": 7,
   "metadata": {},
   "outputs": [
    {
     "name": "stdout",
     "output_type": "stream",
     "text": [
      "Time taken to partial fit with 1 data: 0.0030579566955566406\n"
     ]
    }
   ],
   "source": [
    "import numpy as np\n",
    "from sklearn import linear_model\n",
    "\n",
    "n_samples = 1\n",
    "n_features = 500\n",
    "\n",
    "y = np.random.randn(n_samples)\n",
    "X = np.random.randn(n_samples,n_features)\n",
    "\n",
    "clf = linear_model.SGDRegressor()\n",
    "import time\n",
    "\n",
    "start_time = time.time()\n",
    "\n",
    "clf.partial_fit(X,y)\n",
    "\n",
    "elapsed_time = time.time() - start_time\n",
    "\n",
    "print(\"Time taken to partial fit with 1 data:\",elapsed_time)\n"
   ]
  },
  {
   "cell_type": "code",
   "execution_count": 8,
   "metadata": {},
   "outputs": [
    {
     "name": "stdout",
     "output_type": "stream",
     "text": [
      "Time to partially train 10 datapoints in each go is: 0.012635946273803711\n"
     ]
    }
   ],
   "source": [
    "s1 = time.time()\n",
    "\n",
    "for i in range(1,10):\n",
    "    y = np.random.randn(n_samples)\n",
    "    X = np.random.randn(n_samples,n_features)\n",
    "    clf.partial_fit(X,y)\n",
    "\n",
    "ans = time.time()-s1\n",
    "print(\"Time to partially train 10 datapoints in each go is:\",ans)"
   ]
  }
 ],
 "metadata": {
  "kernelspec": {
   "display_name": "mlenv",
   "language": "python",
   "name": "python3"
  },
  "language_info": {
   "codemirror_mode": {
    "name": "ipython",
    "version": 3
   },
   "file_extension": ".py",
   "mimetype": "text/x-python",
   "name": "python",
   "nbconvert_exporter": "python",
   "pygments_lexer": "ipython3",
   "version": "3.13.3"
  },
  "orig_nbformat": 4
 },
 "nbformat": 4,
 "nbformat_minor": 2
}
