{
 "cells": [
  {
   "cell_type": "code",
   "execution_count": 2,
   "metadata": {},
   "outputs": [],
   "source": [
    "import numpy as np\n",
    "class Perceptron:\n",
    "    \"\"\" Perceptron classifier\n",
    "    Parameters:-\n",
    "    \n",
    "    eta - float\n",
    "    learning rate ( btw 0 to 1)\n",
    "    n = int\n",
    "    number of iterations over the dataset\n",
    "    random_state - int\n",
    "    random number generator for weight initialisation \n",
    "    \n",
    "    w_ - 1d array \n",
    "    weights after fitting \n",
    "    b_ - scalar \n",
    "    bias after fitting\n",
    "    \n",
    "    errors_ - list\n",
    "    number of misclassifications in each epoch\n",
    "    \"\"\"\n",
    "    def __init__(self,eta = 0.01, n_iter = 50, random_state = 1):\n",
    "        self.eta = eta\n",
    "        self.n_iter = n_iter\n",
    "        self.random_state = random_state\n",
    "\n",
    "    def fit(self,X,y):\n",
    "        \"\"\" \n",
    "        Parameters:-\n",
    "        X - feature input, shape = examples, features\n",
    "        Y - feature output, shape = examples\"\"\"\n",
    "        rgen = np.random.RandomState(self.random_state)\n",
    "        self.w_ = rgen.normal(loc = 0,scale = 0.01, size = X.shape[1])\n",
    "        self.b_ = np.float_(0.)\n",
    "        self.errors_ = []\n",
    "\n",
    "        for _ in range(self.n_iter):\n",
    "            errors = 0 #restart the error counter from 0 in each test run\n",
    "            for xi,target in zip(X,y):\n",
    "                update = self.eta * (target - self.predict(xi))\n",
    "                self.w_+= update * xi\n",
    "                self.b_+= update\n",
    "                errors+= int(update !=0.0)\n",
    "            self.errors_.append(errors)\n",
    "        return self\n",
    "\n",
    "    def net_input(self,X):\n",
    "        #Calculate net input for the activation function z = wx + b\n",
    "        return np.dot(X,self.w_) + self.b_\n",
    "    \n",
    "    def predict(self,X):\n",
    "        #Calculatio prediction based on unit step activation function - min threshold value = 0\n",
    "        return np.where(self.net_input(X) >= 0.0, 1, 0)\n",
    "    \n",
    "\n",
    "    \n"
   ]
  },
  {
   "cell_type": "code",
   "execution_count": null,
   "metadata": {},
   "outputs": [],
   "source": []
  }
 ],
 "metadata": {
  "kernelspec": {
   "display_name": "mlenv",
   "language": "python",
   "name": "python3"
  },
  "language_info": {
   "codemirror_mode": {
    "name": "ipython",
    "version": 3
   },
   "file_extension": ".py",
   "mimetype": "text/x-python",
   "name": "python",
   "nbconvert_exporter": "python",
   "pygments_lexer": "ipython3",
   "version": "3.13.3"
  },
  "orig_nbformat": 4
 },
 "nbformat": 4,
 "nbformat_minor": 2
}
